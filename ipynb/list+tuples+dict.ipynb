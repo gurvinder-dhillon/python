{
  "nbformat": 4,
  "nbformat_minor": 0,
  "metadata": {
    "colab": {
      "provenance": []
    },
    "kernelspec": {
      "name": "python3",
      "display_name": "Python 3"
    }
  },
  "cells": [
    {
      "metadata": {
        "id": "z9pizubrne_d"
      },
      "cell_type": "markdown",
      "source": [
        "\n",
        "\n",
        "```\n",
        "# This is formatted as code\n",
        "```\n",
        "\n",
        "# Course List\n",
        "- Edx : Python for Data Science\n",
        "- EDX : Introduction to Python: Fundamentals\n",
        "- EDX : Machine Learning with Python : A Practical Introduction\n",
        "- EDX : Applied Deep Learning Capstone Project\n",
        "- edx : Deep Learning with Tensorflow\n",
        "- edx : Deep Learning with Python and Pytorch\n",
        "- edx : Deep Learning fundamentals with Keras\n",
        "- edx : Healthcare in India: Strategic Perspective\n",
        "- edx : Statistics and Data Science\n",
        "- coursera : Neural Networks and Deep Learning - deeplearning.ai\n",
        "- coursera : Deep Learning Specialization - deeplearning.ai\n",
        "- coursera : Python Data structures\n",
        "- coursera : Python for Data Science - ibm\n",
        "- coursera : Data visualization with Python - ibm\n",
        "- doursera : data Analysis with Python - ibm\n",
        "- coursera : open source tools for data science - ibm\n",
        "- udacity : Introduction to Deep Lerning with PyTorch\n",
        "- udacity : Deep Learning INtroduction\n",
        "- udacity : Intro to Deep Learnng\n",
        "- udacity : Machine Learning\n",
        "- udacity : Introduction to Machine Learning\n",
        "- udacity : Machine Learning - Unsupervised Learning\n",
        "- udacity : Intro to Data Analysis\n",
        "\n",
        "\n"
      ]
    },
    {
      "metadata": {
        "id": "-wSXX_qTr3uI",
        "outputId": "da7aa645-5018-4703-95e4-43e98099cf6a",
        "colab": {
          "base_uri": "https://localhost:8080/",
          "height": 34
        }
      },
      "cell_type": "code",
      "source": [
        "5 + 3\n",
        "1 +2"
      ],
      "execution_count": null,
      "outputs": [
        {
          "output_type": "execute_result",
          "data": {
            "text/plain": [
              "3"
            ]
          },
          "metadata": {
            "tags": []
          },
          "execution_count": 68
        }
      ]
    },
    {
      "metadata": {
        "id": "728bTOtM7loL"
      },
      "cell_type": "markdown",
      "source": [
        "# List"
      ]
    },
    {
      "metadata": {
        "id": "gsLd6Ldhr8Vz"
      },
      "cell_type": "markdown",
      "source": [
        "List"
      ]
    },
    {
      "metadata": {
        "id": "km982FJssnlX",
        "outputId": "e5ceff2a-36f4-4a6e-863d-52cbf3b03b1a",
        "colab": {
          "base_uri": "https://localhost:8080/",
          "height": 34
        }
      },
      "cell_type": "code",
      "source": [
        "list = [11,22,33]\n",
        "list"
      ],
      "execution_count": null,
      "outputs": [
        {
          "output_type": "execute_result",
          "data": {
            "text/plain": [
              "[11, 22, 33]"
            ]
          },
          "metadata": {
            "tags": []
          },
          "execution_count": 52
        }
      ]
    },
    {
      "metadata": {
        "id": "cu4aOEd8wsJf",
        "outputId": "02c6f40d-c432-47e0-eccd-502387bd9d2e",
        "colab": {
          "base_uri": "https://localhost:8080/",
          "height": 34
        }
      },
      "cell_type": "code",
      "source": [
        "list[0]"
      ],
      "execution_count": null,
      "outputs": [
        {
          "output_type": "execute_result",
          "data": {
            "text/plain": [
              "11"
            ]
          },
          "metadata": {
            "tags": []
          },
          "execution_count": 53
        }
      ]
    },
    {
      "metadata": {
        "id": "cJokyMfNwyVB",
        "outputId": "27a500fa-cf63-4bf7-a7a3-95483f0758bc",
        "colab": {
          "base_uri": "https://localhost:8080/",
          "height": 68
        }
      },
      "cell_type": "code",
      "source": [
        "for i in list:\n",
        "  print(i)"
      ],
      "execution_count": null,
      "outputs": [
        {
          "output_type": "stream",
          "text": [
            "11\n",
            "22\n",
            "33\n"
          ],
          "name": "stdout"
        }
      ]
    },
    {
      "metadata": {
        "id": "78DOXM60w5p5",
        "outputId": "d5bd2946-4a67-43a6-924b-e430ca13d91e",
        "colab": {
          "base_uri": "https://localhost:8080/",
          "height": 34
        }
      },
      "cell_type": "code",
      "source": [
        "len(list)"
      ],
      "execution_count": null,
      "outputs": [
        {
          "output_type": "execute_result",
          "data": {
            "text/plain": [
              "3"
            ]
          },
          "metadata": {
            "tags": []
          },
          "execution_count": 55
        }
      ]
    },
    {
      "metadata": {
        "id": "n47_H9BUw_sd",
        "outputId": "862c0b6f-06e2-4347-c91a-6379dcadfe59",
        "colab": {
          "base_uri": "https://localhost:8080/",
          "height": 119
        }
      },
      "cell_type": "code",
      "source": [
        "for i in range(0, len(list)):\n",
        "  print(list[i])\n",
        "  print(i)"
      ],
      "execution_count": null,
      "outputs": [
        {
          "output_type": "stream",
          "text": [
            "11\n",
            "0\n",
            "22\n",
            "1\n",
            "33\n",
            "2\n"
          ],
          "name": "stdout"
        }
      ]
    },
    {
      "metadata": {
        "id": "4qHOxUnTxKcD",
        "outputId": "4bb8d8df-ff01-45a5-df4f-effc2c63eb96",
        "colab": {
          "base_uri": "https://localhost:8080/",
          "height": 34
        }
      },
      "cell_type": "code",
      "source": [
        "list[-1]"
      ],
      "execution_count": null,
      "outputs": [
        {
          "output_type": "execute_result",
          "data": {
            "text/plain": [
              "33"
            ]
          },
          "metadata": {
            "tags": []
          },
          "execution_count": 57
        }
      ]
    },
    {
      "metadata": {
        "id": "2vX7SJp4xjR7",
        "outputId": "a969d837-e819-4575-9978-084aa1d746c0",
        "colab": {
          "base_uri": "https://localhost:8080/",
          "height": 34
        }
      },
      "cell_type": "code",
      "source": [
        "list[1] = 95\n",
        "list"
      ],
      "execution_count": null,
      "outputs": [
        {
          "output_type": "execute_result",
          "data": {
            "text/plain": [
              "[11, 95, 33]"
            ]
          },
          "metadata": {
            "tags": []
          },
          "execution_count": 58
        }
      ]
    },
    {
      "metadata": {
        "id": "lPbYaEVIxu3F",
        "outputId": "5918ee9c-7cc6-4f77-c4c5-c826c218d4ef",
        "colab": {
          "base_uri": "https://localhost:8080/",
          "height": 34
        }
      },
      "cell_type": "code",
      "source": [
        "list.append(44)\n",
        "list"
      ],
      "execution_count": null,
      "outputs": [
        {
          "output_type": "execute_result",
          "data": {
            "text/plain": [
              "[11, 95, 33, 44]"
            ]
          },
          "metadata": {
            "tags": []
          },
          "execution_count": 59
        }
      ]
    },
    {
      "metadata": {
        "id": "2PyFoH_Fx1BB",
        "outputId": "cdc8a898-7926-4d51-d2b4-5d3caa6f4a53",
        "colab": {
          "base_uri": "https://localhost:8080/",
          "height": 34
        }
      },
      "cell_type": "code",
      "source": [
        "list.pop(2)\n",
        "list"
      ],
      "execution_count": null,
      "outputs": [
        {
          "output_type": "execute_result",
          "data": {
            "text/plain": [
              "[11, 95, 44]"
            ]
          },
          "metadata": {
            "tags": []
          },
          "execution_count": 60
        }
      ]
    },
    {
      "metadata": {
        "id": "RiQ8SMxOyRCG",
        "outputId": "21b5c5d4-8ed9-428d-ad22-d8524fae68e4",
        "colab": {
          "base_uri": "https://localhost:8080/",
          "height": 34
        }
      },
      "cell_type": "code",
      "source": [
        "list[2] = 33\n",
        "list"
      ],
      "execution_count": null,
      "outputs": [
        {
          "output_type": "execute_result",
          "data": {
            "text/plain": [
              "[11, 95, 33]"
            ]
          },
          "metadata": {
            "tags": []
          },
          "execution_count": 61
        }
      ]
    },
    {
      "metadata": {
        "id": "W6vwdXJ_ypvn",
        "outputId": "1bd8e977-6571-418f-b64d-a67a2c0f4360",
        "colab": {
          "base_uri": "https://localhost:8080/",
          "height": 34
        }
      },
      "cell_type": "code",
      "source": [
        "list.append(44)\n",
        "list"
      ],
      "execution_count": null,
      "outputs": [
        {
          "output_type": "execute_result",
          "data": {
            "text/plain": [
              "[11, 95, 33, 44]"
            ]
          },
          "metadata": {
            "tags": []
          },
          "execution_count": 62
        }
      ]
    },
    {
      "metadata": {
        "id": "hF15a5bzzIUM",
        "outputId": "7e8167d0-5d23-4107-951d-82fb61cd85fe",
        "colab": {
          "base_uri": "https://localhost:8080/",
          "height": 34
        }
      },
      "cell_type": "code",
      "source": [
        "list.remove(33)\n",
        "list"
      ],
      "execution_count": null,
      "outputs": [
        {
          "output_type": "execute_result",
          "data": {
            "text/plain": [
              "[11, 95, 44]"
            ]
          },
          "metadata": {
            "tags": []
          },
          "execution_count": 63
        }
      ]
    },
    {
      "metadata": {
        "id": "FQNRYuME0J6n",
        "outputId": "7b64ef9c-b135-4401-ee35-7505802283f3",
        "colab": {
          "base_uri": "https://localhost:8080/",
          "height": 34
        }
      },
      "cell_type": "code",
      "source": [
        "list2 = [4,5,6]\n",
        "list.extend(list2)\n",
        "list"
      ],
      "execution_count": null,
      "outputs": [
        {
          "output_type": "execute_result",
          "data": {
            "text/plain": [
              "[11, 95, 44, 4, 5, 6]"
            ]
          },
          "metadata": {
            "tags": []
          },
          "execution_count": 64
        }
      ]
    },
    {
      "metadata": {
        "id": "Wm8FyCOz8BQD",
        "outputId": "55510df9-7ef8-4abd-d0c2-fbb9a22fd90d",
        "colab": {
          "base_uri": "https://localhost:8080/",
          "height": 34
        }
      },
      "cell_type": "code",
      "source": [
        "list.append(list2)\n",
        "list"
      ],
      "execution_count": null,
      "outputs": [
        {
          "output_type": "execute_result",
          "data": {
            "text/plain": [
              "[11, 95, 44, 4, 5, 6, [4, 5, 6]]"
            ]
          },
          "metadata": {
            "tags": []
          },
          "execution_count": 65
        }
      ]
    },
    {
      "metadata": {
        "id": "agbVTpbD8J7O",
        "outputId": "11363074-ab70-4492-f5ad-a19ab6d306b9",
        "colab": {
          "base_uri": "https://localhost:8080/",
          "height": 217
        }
      },
      "cell_type": "code",
      "source": [
        "len(list)\n",
        "list.pop(9)\n",
        "list"
      ],
      "execution_count": null,
      "outputs": [
        {
          "output_type": "error",
          "ename": "IndexError",
          "evalue": "ignored",
          "traceback": [
            "\u001b[0;31m---------------------------------------------------------------------------\u001b[0m",
            "\u001b[0;31mIndexError\u001b[0m                                Traceback (most recent call last)",
            "\u001b[0;32m<ipython-input-66-e7d2505c5d02>\u001b[0m in \u001b[0;36m<module>\u001b[0;34m()\u001b[0m\n\u001b[1;32m      1\u001b[0m \u001b[0mlen\u001b[0m\u001b[0;34m(\u001b[0m\u001b[0mlist\u001b[0m\u001b[0;34m)\u001b[0m\u001b[0;34m\u001b[0m\u001b[0m\n\u001b[0;32m----> 2\u001b[0;31m \u001b[0mlist\u001b[0m\u001b[0;34m.\u001b[0m\u001b[0mpop\u001b[0m\u001b[0;34m(\u001b[0m\u001b[0;36m10\u001b[0m\u001b[0;34m)\u001b[0m\u001b[0;34m\u001b[0m\u001b[0m\n\u001b[0m\u001b[1;32m      3\u001b[0m \u001b[0mlist\u001b[0m\u001b[0;34m\u001b[0m\u001b[0m\n",
            "\u001b[0;31mIndexError\u001b[0m: pop index out of range"
          ]
        }
      ]
    },
    {
      "metadata": {
        "id": "SAbX9bHi8b6l",
        "outputId": "7b2ba0c6-84d1-4f4d-df79-56fd9e134651",
        "colab": {
          "base_uri": "https://localhost:8080/",
          "height": 187
        }
      },
      "cell_type": "code",
      "source": [
        "list3 = [1, 2, 3, 4, 5, 6, 7, 8, 9, 10]\n",
        "for x,y in zip(list, list3):\n",
        "  print(x, \",\", y)"
      ],
      "execution_count": null,
      "outputs": [
        {
          "output_type": "stream",
          "text": [
            "11 , 1\n",
            "95 , 2\n",
            "44 , 3\n",
            "44 , 4\n",
            "4 , 5\n",
            "5 , 6\n",
            "6 , 7\n",
            "4 , 8\n",
            "5 , 9\n",
            "6 , 10\n"
          ],
          "name": "stdout"
        }
      ]
    },
    {
      "metadata": {
        "id": "-DWMYjRSP1fP",
        "outputId": "cdde9312-783a-4308-ecd1-2d5216308115",
        "colab": {
          "base_uri": "https://localhost:8080/",
          "height": 34
        }
      },
      "cell_type": "code",
      "source": [
        "nestedlist = [1, 2, [3, \"a\"], [4, \"b\"]]\n",
        "nestedlist[-1][1]\n",
        "nestedlist[1:3]"
      ],
      "execution_count": null,
      "outputs": [
        {
          "output_type": "execute_result",
          "data": {
            "text/plain": [
              "[2, [3, 'a']]"
            ]
          },
          "metadata": {
            "tags": []
          },
          "execution_count": 76
        }
      ]
    },
    {
      "metadata": {
        "id": "SQhjgUIUTqSh",
        "outputId": "9d20e398-7e69-4b14-f65a-db79a7587afb",
        "colab": {
          "base_uri": "https://localhost:8080/",
          "height": 34
        }
      },
      "cell_type": "code",
      "source": [
        "addtwolists = [\"a\", \"b\"]\n",
        "tobeadded = [99,100]\n",
        "addtwolists = addtwolists + tobeadded\n",
        "addtwolists"
      ],
      "execution_count": null,
      "outputs": [
        {
          "output_type": "execute_result",
          "data": {
            "text/plain": [
              "['a', 'b', 99, 100]"
            ]
          },
          "metadata": {
            "tags": []
          },
          "execution_count": 78
        }
      ]
    },
    {
      "metadata": {
        "id": "TTGbrVlibKD2",
        "outputId": "38270b63-fcdb-4e55-c792-c6571b3a7c34",
        "colab": {
          "base_uri": "https://localhost:8080/",
          "height": 34
        }
      },
      "cell_type": "code",
      "source": [
        "del(addtwolists[0])\n",
        "addtwolists"
      ],
      "execution_count": null,
      "outputs": [
        {
          "output_type": "execute_result",
          "data": {
            "text/plain": [
              "['b', 99, 100]"
            ]
          },
          "metadata": {
            "tags": []
          },
          "execution_count": 79
        }
      ]
    },
    {
      "metadata": {
        "id": "YOfVw4wF-Iyd",
        "outputId": "a856ea23-937f-433b-a5e7-cc894ce2a60f",
        "colab": {
          "base_uri": "https://localhost:8080/",
          "height": 34
        }
      },
      "cell_type": "code",
      "source": [
        "list4 = [\"l\", 'i', 's', 't', 4]\n",
        "list4clone = list(list4)\n",
        "list4[4] = 5\n",
        "print(list4 , \" \" , list4clone)"
      ],
      "execution_count": null,
      "outputs": [
        {
          "output_type": "stream",
          "text": [
            "['l', 'i', 's', 't', 5]   ['l', 'i', 's', 't', 4]\n"
          ],
          "name": "stdout"
        }
      ]
    },
    {
      "metadata": {
        "id": "6GbwZ_EoJmru"
      },
      "cell_type": "markdown",
      "source": [
        "# Tuple"
      ]
    },
    {
      "metadata": {
        "id": "EYjjx_5NJrf0",
        "outputId": "400ed552-8f5e-471f-928d-e745b086c934",
        "colab": {
          "base_uri": "https://localhost:8080/",
          "height": 34
        }
      },
      "cell_type": "code",
      "source": [
        "tuple1 = (1, 2, 5, 8)\n",
        "tuple2 = (\"a\", \"b\", \"c\", \"d\")\n",
        "tuple3 = tuple1 + tuple2\n",
        "tuple3[5:8]\n",
        "tuple4 = tuple3\n",
        "tuple3\n",
        "tuple4"
      ],
      "execution_count": null,
      "outputs": [
        {
          "output_type": "execute_result",
          "data": {
            "text/plain": [
              "(1, 2, 5, 8, 'a', 'b', 'c', 'd')"
            ]
          },
          "metadata": {
            "tags": []
          },
          "execution_count": 48
        }
      ]
    },
    {
      "metadata": {
        "id": "ChaflOjdNSed",
        "outputId": "eb47ea47-2867-40fa-fb69-eccb9cd68f15",
        "colab": {
          "base_uri": "https://localhost:8080/",
          "height": 34
        }
      },
      "cell_type": "code",
      "source": [
        "nestedtuple = (\"pop\", \"rock\", (3, 4), (\"disco\", (1,2)))\n",
        "nestedtuple[3]\n",
        "nestedtuple[3][1]\n",
        "nestedtuple[3][1][1]"
      ],
      "execution_count": null,
      "outputs": [
        {
          "output_type": "execute_result",
          "data": {
            "text/plain": [
              "2"
            ]
          },
          "metadata": {
            "tags": []
          },
          "execution_count": 69
        }
      ]
    },
    {
      "metadata": {
        "id": "W3zrX_rsBTug"
      },
      "cell_type": "markdown",
      "source": [
        "# Dictionaries"
      ]
    },
    {
      "metadata": {
        "id": "JndMRfPHBZHJ",
        "outputId": "b46c080f-9b42-436f-8794-1f3e292a8ad5",
        "colab": {
          "base_uri": "https://localhost:8080/",
          "height": 34
        }
      },
      "cell_type": "code",
      "source": [
        "dict = {\"key1\":\"a\", \"key2\":2, \"key3\":[\"c\", 3], \"key4\":(\"d\", 4)}\n",
        "dict"
      ],
      "execution_count": null,
      "outputs": [
        {
          "output_type": "execute_result",
          "data": {
            "text/plain": [
              "{'key1': 'a', 'key2': 2, 'key3': ['c', 3], 'key4': ('d', 4)}"
            ]
          },
          "metadata": {
            "tags": []
          },
          "execution_count": 3
        }
      ]
    },
    {
      "metadata": {
        "id": "LQ4vKWAhDyLB",
        "outputId": "53c64c8a-e793-4d1b-8fda-b8f7cdf0a572",
        "colab": {
          "base_uri": "https://localhost:8080/",
          "height": 34
        }
      },
      "cell_type": "code",
      "source": [
        "dict[\"key4\"]"
      ],
      "execution_count": null,
      "outputs": [
        {
          "output_type": "execute_result",
          "data": {
            "text/plain": [
              "('d', 4)"
            ]
          },
          "metadata": {
            "tags": []
          },
          "execution_count": 5
        }
      ]
    },
    {
      "metadata": {
        "id": "CUl1YTZ9D4h9",
        "outputId": "95c0167c-a1a3-43ca-9c41-80512d1d4daf",
        "colab": {
          "base_uri": "https://localhost:8080/",
          "height": 34
        }
      },
      "cell_type": "code",
      "source": [
        "dict[\"key4\"][0]"
      ],
      "execution_count": null,
      "outputs": [
        {
          "output_type": "execute_result",
          "data": {
            "text/plain": [
              "'d'"
            ]
          },
          "metadata": {
            "tags": []
          },
          "execution_count": 7
        }
      ]
    },
    {
      "metadata": {
        "id": "ZrbNcb6uEZ6T",
        "outputId": "f2f5c10b-707f-470c-a663-aaf34a42b427",
        "colab": {
          "base_uri": "https://localhost:8080/",
          "height": 119
        }
      },
      "cell_type": "code",
      "source": [
        "dict[\"key-del\"] = '2007'\n",
        "dict[\"key5\"] = '2008'\n",
        "dict"
      ],
      "execution_count": null,
      "outputs": [
        {
          "output_type": "execute_result",
          "data": {
            "text/plain": [
              "{'key-del': '2007',\n",
              " 'key1': 'a',\n",
              " 'key2': 2,\n",
              " 'key3': ['c', 3],\n",
              " 'key4': ('d', 4),\n",
              " 'key5': '2008'}"
            ]
          },
          "metadata": {
            "tags": []
          },
          "execution_count": 8
        }
      ]
    },
    {
      "metadata": {
        "id": "1O_emLdPExkI",
        "outputId": "35d0d98c-d182-4cc1-98ed-9ea3a86e06cf",
        "colab": {
          "base_uri": "https://localhost:8080/",
          "height": 34
        }
      },
      "cell_type": "code",
      "source": [
        "del(dict['key-del'])\n",
        "dict"
      ],
      "execution_count": null,
      "outputs": [
        {
          "output_type": "execute_result",
          "data": {
            "text/plain": [
              "{'key1': 'a', 'key2': 2, 'key3': ['c', 3], 'key4': ('d', 4), 'key5': '2008'}"
            ]
          },
          "metadata": {
            "tags": []
          },
          "execution_count": 9
        }
      ]
    },
    {
      "metadata": {
        "id": "jyI9ne32M7qY",
        "outputId": "6869e062-f6ed-403f-fd11-c4128985dbf6",
        "colab": {
          "base_uri": "https://localhost:8080/",
          "height": 34
        }
      },
      "cell_type": "code",
      "source": [
        "'key-del' in dict"
      ],
      "execution_count": null,
      "outputs": [
        {
          "output_type": "execute_result",
          "data": {
            "text/plain": [
              "False"
            ]
          },
          "metadata": {
            "tags": []
          },
          "execution_count": 10
        }
      ]
    },
    {
      "metadata": {
        "id": "zZm_MywcNFu2",
        "outputId": "cb660cdf-7d18-469f-d3b0-cb091a21c5ad",
        "colab": {
          "base_uri": "https://localhost:8080/",
          "height": 34
        }
      },
      "cell_type": "code",
      "source": [
        "'key1' in dict"
      ],
      "execution_count": null,
      "outputs": [
        {
          "output_type": "execute_result",
          "data": {
            "text/plain": [
              "True"
            ]
          },
          "metadata": {
            "tags": []
          },
          "execution_count": 11
        }
      ]
    },
    {
      "metadata": {
        "id": "Q9tDICEENJ7q",
        "outputId": "9bcd8460-b011-4f8d-f14d-fa40c35adc74",
        "colab": {
          "base_uri": "https://localhost:8080/",
          "height": 34
        }
      },
      "cell_type": "code",
      "source": [
        "dict.keys()"
      ],
      "execution_count": null,
      "outputs": [
        {
          "output_type": "execute_result",
          "data": {
            "text/plain": [
              "dict_keys(['key1', 'key2', 'key3', 'key4', 'key5'])"
            ]
          },
          "metadata": {
            "tags": []
          },
          "execution_count": 13
        }
      ]
    },
    {
      "metadata": {
        "id": "GejMJc9YNWi9",
        "outputId": "266f984f-98fe-4e1d-ae80-a557d311bea1",
        "colab": {
          "base_uri": "https://localhost:8080/",
          "height": 34
        }
      },
      "cell_type": "code",
      "source": [
        "dict.values()"
      ],
      "execution_count": null,
      "outputs": [
        {
          "output_type": "execute_result",
          "data": {
            "text/plain": [
              "dict_values(['a', 2, ['c', 3], ('d', 4), '2008'])"
            ]
          },
          "metadata": {
            "tags": []
          },
          "execution_count": 14
        }
      ]
    },
    {
      "metadata": {
        "id": "u-dX1kyiAcN5"
      },
      "cell_type": "markdown",
      "source": [
        "Tuples as Key in Dict"
      ]
    },
    {
      "metadata": {
        "id": "HnOocoEOAfTk",
        "outputId": "88d23405-203e-4552-ecb6-9f5d16db7125",
        "colab": {
          "base_uri": "https://localhost:8080/",
          "height": 34
        }
      },
      "cell_type": "code",
      "source": [
        "movies = {(\"golmal\", 2000):6, (\"golmal\", 2005):9}\n",
        "movies"
      ],
      "execution_count": null,
      "outputs": [
        {
          "output_type": "execute_result",
          "data": {
            "text/plain": [
              "{('golmal', 2000): 6, ('golmal', 2005): 9}"
            ]
          },
          "metadata": {
            "tags": []
          },
          "execution_count": 6
        }
      ]
    },
    {
      "metadata": {
        "id": "1SFggrZQA1I-"
      },
      "cell_type": "code",
      "source": [
        "movies[('golmal', 2003)] = 7\n",
        "y = movies.get((\"golmal\", 200))\n",
        "y"
      ],
      "execution_count": null,
      "outputs": []
    },
    {
      "metadata": {
        "id": "YjH3iqLMDqsO",
        "outputId": "8563392d-cae8-42b4-a0d0-7f3617c87196",
        "colab": {
          "base_uri": "https://localhost:8080/",
          "height": 68
        }
      },
      "cell_type": "code",
      "source": [
        "for key, val in movies.items():\n",
        "  print(key, \":\", val)"
      ],
      "execution_count": null,
      "outputs": [
        {
          "output_type": "stream",
          "text": [
            "('golmal', 2000) : 6\n",
            "('golmal', 2005) : 9\n",
            "('golmal', 2003) : 7\n"
          ],
          "name": "stdout"
        }
      ]
    },
    {
      "metadata": {
        "id": "4usOsKjTc306"
      },
      "cell_type": "markdown",
      "source": [
        "# Sets"
      ]
    },
    {
      "metadata": {
        "id": "yJvMGfbFi9jJ",
        "outputId": "559e0ac8-c798-4e03-e061-5fed26eedd91",
        "colab": {
          "base_uri": "https://localhost:8080/",
          "height": 34
        }
      },
      "cell_type": "code",
      "source": [
        "setofan = {\"a\", \"b\", \"c\", 4, 5, 6, \"b\", 4}\n",
        "setofan"
      ],
      "execution_count": null,
      "outputs": [
        {
          "output_type": "execute_result",
          "data": {
            "text/plain": [
              "{4, 5, 6, 'a', 'b', 'c'}"
            ]
          },
          "metadata": {
            "tags": []
          },
          "execution_count": 15
        }
      ]
    },
    {
      "metadata": {
        "id": "PYWFy6zDnaWt",
        "outputId": "a184a035-c71b-4697-fe78-2802820431a0",
        "colab": {
          "base_uri": "https://localhost:8080/",
          "height": 34
        }
      },
      "cell_type": "code",
      "source": [
        "setofan.add(7)\n",
        "setofan"
      ],
      "execution_count": null,
      "outputs": [
        {
          "output_type": "execute_result",
          "data": {
            "text/plain": [
              "{4, 5, 6, 7, 'a', 'b', 'c'}"
            ]
          },
          "metadata": {
            "tags": []
          },
          "execution_count": 16
        }
      ]
    },
    {
      "metadata": {
        "id": "YVMiT18jnv9d",
        "outputId": "2b6266ba-9743-48c5-b9c8-f2b2d8849e12",
        "colab": {
          "base_uri": "https://localhost:8080/",
          "height": 34
        }
      },
      "cell_type": "code",
      "source": [
        "setofan.remove(\"c\")\n",
        "setofan"
      ],
      "execution_count": null,
      "outputs": [
        {
          "output_type": "execute_result",
          "data": {
            "text/plain": [
              "{4, 5, 6, 7, 'a', 'b'}"
            ]
          },
          "metadata": {
            "tags": []
          },
          "execution_count": 17
        }
      ]
    },
    {
      "metadata": {
        "id": "QFpk9JzIoAge",
        "outputId": "f594f447-b3ec-433e-d9e9-fbb3e6620437",
        "colab": {
          "base_uri": "https://localhost:8080/",
          "height": 34
        }
      },
      "cell_type": "code",
      "source": [
        "5 in setofan"
      ],
      "execution_count": null,
      "outputs": [
        {
          "output_type": "execute_result",
          "data": {
            "text/plain": [
              "True"
            ]
          },
          "metadata": {
            "tags": []
          },
          "execution_count": 18
        }
      ]
    },
    {
      "metadata": {
        "id": "VJLn0Q1PKQct",
        "outputId": "3680418a-26be-4cb2-bb5e-dc201524708f",
        "colab": {
          "base_uri": "https://localhost:8080/",
          "height": 34
        }
      },
      "cell_type": "code",
      "source": [
        "rgbset = set([\"red\", \"blue\", \"green\"])\n",
        "rgbset"
      ],
      "execution_count": null,
      "outputs": [
        {
          "output_type": "execute_result",
          "data": {
            "text/plain": [
              "{'blue', 'green', 'red'}"
            ]
          },
          "metadata": {
            "tags": []
          },
          "execution_count": 25
        }
      ]
    },
    {
      "metadata": {
        "id": "-54kfnFzFSPC"
      },
      "cell_type": "markdown",
      "source": [
        "# List, Dict Comprehensions"
      ]
    },
    {
      "metadata": {
        "id": "PqbQ_mRfFWNB",
        "outputId": "bcd5ff9a-d55f-444e-b46f-4c0651959d0c",
        "colab": {
          "base_uri": "https://localhost:8080/",
          "height": 34
        }
      },
      "cell_type": "code",
      "source": [
        "complistsquare = [i**2 for i in range(1,11)]\n",
        "complistnum = [i for i in range(0,6)]\n",
        "complistsquare, complistnum"
      ],
      "execution_count": null,
      "outputs": [
        {
          "output_type": "execute_result",
          "data": {
            "text/plain": [
              "([1, 4, 9, 16, 25, 36, 49, 64, 81, 100], [0, 1, 2, 3, 4, 5])"
            ]
          },
          "metadata": {
            "tags": []
          },
          "execution_count": 17
        }
      ]
    },
    {
      "metadata": {
        "id": "WaRFMKJyHC9q",
        "outputId": "70e18782-3877-42c8-a741-9d562119e0df",
        "colab": {
          "base_uri": "https://localhost:8080/",
          "height": 34
        }
      },
      "cell_type": "code",
      "source": [
        "compliststep = [i for i in range(0,20, 2)]\n",
        "compliststep"
      ],
      "execution_count": null,
      "outputs": [
        {
          "output_type": "execute_result",
          "data": {
            "text/plain": [
              "[0, 2, 4, 6, 8, 10, 12, 14, 16, 18]"
            ]
          },
          "metadata": {
            "tags": []
          },
          "execution_count": 18
        }
      ]
    },
    {
      "metadata": {
        "id": "15qXJ85VHfWH",
        "outputId": "dc752042-740b-4d38-d1b0-770e74ff4eb9",
        "colab": {
          "base_uri": "https://localhost:8080/",
          "height": 34
        }
      },
      "cell_type": "code",
      "source": [
        "import random\n",
        "ranlist = [random.randint(0,5) for i in range(0,10)]\n",
        "ranlist"
      ],
      "execution_count": null,
      "outputs": [
        {
          "output_type": "execute_result",
          "data": {
            "text/plain": [
              "[5, 4, 5, 1, 4, 1, 4, 5, 3, 4]"
            ]
          },
          "metadata": {
            "tags": []
          },
          "execution_count": 20
        }
      ]
    },
    {
      "metadata": {
        "id": "TnMY4omnIvoX",
        "outputId": "9f67c91e-bbb7-407e-ff7c-16f8853c9a11",
        "colab": {
          "base_uri": "https://localhost:8080/",
          "height": 34
        }
      },
      "cell_type": "code",
      "source": [
        "compdictsquare = {i:i**2 for i in range(1,11)}\n",
        "compdictsquare"
      ],
      "execution_count": null,
      "outputs": [
        {
          "output_type": "execute_result",
          "data": {
            "text/plain": [
              "{1: 1, 2: 4, 3: 9, 4: 16, 5: 25, 6: 36, 7: 49, 8: 64, 9: 81, 10: 100}"
            ]
          },
          "metadata": {
            "tags": []
          },
          "execution_count": 22
        }
      ]
    },
    {
      "metadata": {
        "id": "F9CztPdkJZ5K",
        "outputId": "9b53cf0a-1fa7-4183-ec8b-457b8f91f1ab",
        "colab": {
          "base_uri": "https://localhost:8080/",
          "height": 459
        }
      },
      "cell_type": "code",
      "source": [
        "compdictascii = {i:chr(i) for i in range(65,91)}\n",
        "compdictascii"
      ],
      "execution_count": null,
      "outputs": [
        {
          "output_type": "execute_result",
          "data": {
            "text/plain": [
              "{65: 'A',\n",
              " 66: 'B',\n",
              " 67: 'C',\n",
              " 68: 'D',\n",
              " 69: 'E',\n",
              " 70: 'F',\n",
              " 71: 'G',\n",
              " 72: 'H',\n",
              " 73: 'I',\n",
              " 74: 'J',\n",
              " 75: 'K',\n",
              " 76: 'L',\n",
              " 77: 'M',\n",
              " 78: 'N',\n",
              " 79: 'O',\n",
              " 80: 'P',\n",
              " 81: 'Q',\n",
              " 82: 'R',\n",
              " 83: 'S',\n",
              " 84: 'T',\n",
              " 85: 'U',\n",
              " 86: 'V',\n",
              " 87: 'W',\n",
              " 88: 'X',\n",
              " 89: 'Y',\n",
              " 90: 'Z'}"
            ]
          },
          "metadata": {
            "tags": []
          },
          "execution_count": 24
        }
      ]
    }
  ]
}